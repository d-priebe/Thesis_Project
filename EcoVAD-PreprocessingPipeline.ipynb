{
 "cells": [
  {
   "cell_type": "code",
   "execution_count": null,
   "id": "d0c02225",
   "metadata": {},
   "outputs": [],
   "source": [
    "!git clone https://github.com/NINAnor/ecoVAD.git"
   ]
  },
  {
   "cell_type": "code",
   "execution_count": null,
   "id": "7eb1faf1",
   "metadata": {},
   "outputs": [],
   "source": [
    "!pip install audiomentations"
   ]
  },
  {
   "cell_type": "code",
   "execution_count": null,
   "id": "bd684363",
   "metadata": {},
   "outputs": [],
   "source": [
    "%load_ext autoreload\n",
    "%autoreload 2"
   ]
  },
  {
   "cell_type": "code",
   "execution_count": null,
   "id": "8ab1b843",
   "metadata": {},
   "outputs": [],
   "source": [
    "from yaml import FullLoader\n",
    "import yaml\n",
    "import glob\n",
    "import os"
   ]
  },
  {
   "cell_type": "code",
   "execution_count": null,
   "id": "87421f67",
   "metadata": {},
   "outputs": [],
   "source": [
    "current_dir = os.getcwd()"
   ]
  },
  {
   "cell_type": "code",
   "execution_count": null,
   "id": "3b49aa0b",
   "metadata": {},
   "outputs": [],
   "source": [
    "with open(current_dir + \"/ecoVAD/config_training.yaml\") as f:\n",
    "    cfg = yaml.load(f, Loader=FullLoader)"
   ]
  },
  {
   "cell_type": "code",
   "execution_count": null,
   "id": "b1ba11a4",
   "metadata": {},
   "outputs": [],
   "source": [
    "audio_path = current_dir + '/Sound_Scape_Data'\n",
    "speech_dir = current_dir + '/LibSpeechData'\n",
    "noise_dir = current_dir + '/Anthropogenic_BirdCLEF'\n",
    "audio_out_dir =current_dir + '/Synthetic_Dataset'\n",
    "checkpoint_file = current_dir +'/checkpoint.txt'\n",
    "os.chdir(current_dir+\"/ecoVAD\")"
   ]
  },
  {
   "cell_type": "code",
   "execution_count": null,
   "id": "e2388263",
   "metadata": {},
   "outputs": [],
   "source": [
    "# Partial-Code from Cretois et al. (2022)\n",
    "from VAD_algorithms.ecovad.make_data import preprocess_file, save_processed_arrays\n",
    "def read_processed_files(filepath):\n",
    "    if os.path.exists(filepath):\n",
    "        with open(filepath, 'r') as f:\n",
    "            processed_files = [line.strip() for line in f.readlines()]\n",
    "    else:\n",
    "        processed_files = []\n",
    "    return processed_files\n",
    "\n",
    "def save_processed_file(filepath, file):\n",
    "    with open(filepath, 'a') as f:\n",
    "        f.write(file + '\\n')\n",
    "\n",
    "list_audio_files = glob.glob(audio_path+ \"/*\")\n",
    "processed_files = read_processed_files(checkpoint_file)\n",
    "\n",
    "\n",
    "for file in list_audio_files:\n",
    "    if file not in processed_files:\n",
    "        try:\n",
    "            processed_arr, sr = preprocess_file(file, \n",
    "                            cfg[\"LENGTH_SEGMENTS\"], \n",
    "                            overlap=0, \n",
    "                            min_length=cfg[\"LENGTH_SEGMENTS\"],\n",
    "                            speech_dir=speech_dir,\n",
    "                            noise_dir=noise_dir,\n",
    "                            proba_speech=cfg[\"PROBA_SPEECH\"],\n",
    "                            proba_noise_speech=cfg[\"PROBA_NOISE_WHEN_SPEECH\"],\n",
    "                            proba_noise_nospeech=cfg[\"PROBA_NOISE_WHEN_NO_SPEECH\"])\n",
    "            save_processed_arrays(file, audio_out_dir, processed_arr, sr)\n",
    "            save_processed_file(checkpoint_file, file)\n",
    "        except AssertionError:\n",
    "            print(f\"Could not find noise files for {file}\")"
   ]
  }
 ],
 "metadata": {
  "kernelspec": {
   "display_name": "Python 3 (ipykernel)",
   "language": "python",
   "name": "python3"
  },
  "language_info": {
   "codemirror_mode": {
    "name": "ipython",
    "version": 3
   },
   "file_extension": ".py",
   "mimetype": "text/x-python",
   "name": "python",
   "nbconvert_exporter": "python",
   "pygments_lexer": "ipython3",
   "version": "3.10.9"
  }
 },
 "nbformat": 4,
 "nbformat_minor": 5
}
